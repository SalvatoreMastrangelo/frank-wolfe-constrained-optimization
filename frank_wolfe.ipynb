{
 "cells": [
  {
   "cell_type": "markdown",
   "id": "c16c8298",
   "metadata": {},
   "source": [
    "## Some imports"
   ]
  },
  {
   "cell_type": "code",
   "execution_count": null,
   "id": "23e382ab",
   "metadata": {},
   "outputs": [],
   "source": [
    "import numpy as np\n",
    "import sympy as sp\n",
    "import time"
   ]
  },
  {
   "cell_type": "code",
   "execution_count": null,
   "id": "ed077091",
   "metadata": {},
   "outputs": [],
   "source": [
    "gaps = []"
   ]
  },
  {
   "cell_type": "markdown",
   "id": "bc63876c",
   "metadata": {},
   "source": [
    "## frank-wolfe algorithm"
   ]
  },
  {
   "cell_type": "code",
   "execution_count": null,
   "id": "e1aaffc6",
   "metadata": {},
   "outputs": [],
   "source": [
    "def f(Q, q, x):\n",
    "    return (1/2 * x.T @ Q @ x + q.T @ x)[0][0]\n",
    "\n",
    "def frank_wolfe(Q, q, x0, partitions, max_iter=100, eps=1e-6, interactive=False, verbose=False, step_size='hyperbolic'):\n",
    "    x = x0\n",
    "    for k in range(max_iter):\n",
    "        # Compute the gradient\n",
    "        grad = Q @ x + q\n",
    "\n",
    "        s = np.zeros_like(q) # direction vector\n",
    "        for part in partitions:\n",
    "            if len(part) == 0:\n",
    "                continue\n",
    "\n",
    "            min_index = part[np.argmin(grad[part])]\n",
    "            s[min_index] = 1\n",
    "            \n",
    "\n",
    "        # Compute the step size\n",
    "        if step_size == 'hyperbolic':\n",
    "            alpha = 2 / (k + 2)\n",
    "        elif step_size == 'exact':\n",
    "            alpha = - ((np.dot(q.T, (s - x)) + np.dot((s - x).T, Q @ x)) / np.dot((s - x).T, (Q @ (s - x))))[0][0] \n",
    "            if alpha > 1:\n",
    "                alpha = 1  \n",
    "   \n",
    "        # Update the solution\n",
    "        x_new = (1 - alpha) * x + alpha * s\n",
    "        \n",
    "        # Compute Frank–Wolfe gap\n",
    "        gap = np.dot(grad.T, (x - s))[0][0]\n",
    "        gaps.append(gap)\n",
    "        if gap <= eps:\n",
    "            print(f\"Stopping criterion reached (gap ≤ {eps}).\")\n",
    "            break\n",
    "        \n",
    "        if verbose:\n",
    "            print(f\"Iteration {k}:\")\n",
    "            # print(f\"x = \\n{x}\")\n",
    "            # print(f\"s = \\n{s}\")\n",
    "            # print(f\"s_index = {np.where(s == 1)[0]}\")\n",
    "            # print(f\"f(x) = \\n{f(Q, q, x)}\")\n",
    "            # print(f\"gradient_norm = {np.linalg.norm(grad)}\\n\")\n",
    "            print(f\"alpha = {alpha}\")\n",
    "            print(f\"gap = {gap}\\n\")\n",
    "        \n",
    "        x = x_new\n",
    "       \n",
    "\n",
    "        if interactive:\n",
    "            input(\"Press Enter to continue...\")\n",
    "    \n",
    "    return x"
   ]
  },
  {
   "cell_type": "markdown",
   "id": "d3a83502",
   "metadata": {},
   "source": [
    "## generate Q matrix"
   ]
  },
  {
   "cell_type": "code",
   "execution_count": null,
   "id": "0f766bd0",
   "metadata": {},
   "outputs": [],
   "source": [
    "# Generate a random square matrix\n",
    "n = 30  # Size of the matrix\n",
    "matrix = np.random.rand(n, n)\n",
    "# matrix = matrix * np.random.randint(1, 10)\n",
    "\n",
    "Q = matrix.T @ matrix + 3 * np.eye(n)  # Ensure positive definiteness\n",
    "# Q = np.eye(n)\n",
    "q = np.random.rand(n, 1)\n",
    "\n",
    "eigenvalues = np.linalg.eigvals(Q)\n",
    "eigenvalues = sorted(eigenvalues, reverse=True)\n",
    "\n",
    "sp.init_printing(use_latex=True)\n",
    "dispQ = sp.Matrix(Q)\n",
    "dispq = sp.Matrix(q)\n",
    "dispeig = sp.Matrix(eigenvalues)\n",
    "print(\"Q:\")\n",
    "display(dispQ)\n",
    "print()\n",
    "print(\"q:\")\n",
    "display(dispq)\n",
    "print()\n",
    "print(\"Eigenvalues of Q:\")\n",
    "display(dispeig)"
   ]
  },
  {
   "cell_type": "code",
   "execution_count": null,
   "id": "bad9c29e",
   "metadata": {},
   "outputs": [],
   "source": [
    "# import plotly.graph_objects as go\n",
    "\n",
    "# # Define the grid for plotting\n",
    "# x_vals = np.linspace(0, 1, 100)\n",
    "# y_vals = np.linspace(0, 1, 100)\n",
    "# X, Y = np.meshgrid(x_vals, y_vals)\n",
    "\n",
    "# # Compute Z values for the function f\n",
    "# Z = np.zeros_like(X)\n",
    "# for i in range(X.shape[0]):\n",
    "#     for j in range(X.shape[1]):\n",
    "#         x_vec = np.array([[X[i, j]], [Y[i, j]]])\n",
    "#         Z[i, j] = f(Q, q, x_vec)\n",
    "\n",
    "# # Create the 3D surface plot\n",
    "# fig = go.Figure(data=[go.Surface(z=Z, x=X, y=Y, colorscale='Viridis')])\n",
    "\n",
    "# # Add labels and title\n",
    "# fig.update_layout(\n",
    "#     title=\"3D Plot of the Function f\",\n",
    "#     scene=dict(\n",
    "#         xaxis_title=\"x1\",\n",
    "#         yaxis_title=\"x2\",\n",
    "#         zaxis_title=\"f(x)\"\n",
    "#     )\n",
    "# )\n",
    "\n",
    "# # Display the interactive plot\n",
    "# fig.show()\n"
   ]
  },
  {
   "cell_type": "markdown",
   "id": "e76ba170",
   "metadata": {},
   "source": [
    "## Generate constraints"
   ]
  },
  {
   "cell_type": "code",
   "execution_count": null,
   "id": "248a427b",
   "metadata": {},
   "outputs": [],
   "source": [
    "n_partitions = np.random.randint(1, n + 1)\n",
    "partitions = [[] for i in range(n_partitions)]\n",
    "for i in range(n):\n",
    "    partitions[np.random.randint(0, n_partitions)].append(i)\n",
    "    \n",
    "print(f\"Partitions amount: {n_partitions}\")\n",
    "for i in range(n_partitions):\n",
    "    print(partitions[i])"
   ]
  },
  {
   "cell_type": "markdown",
   "id": "b8f60168",
   "metadata": {},
   "source": [
    "## Starting point"
   ]
  },
  {
   "cell_type": "code",
   "execution_count": null,
   "id": "223ba37f",
   "metadata": {},
   "outputs": [],
   "source": [
    "x0 = np.zeros((n, 1))\n",
    "for part in partitions:\n",
    "    if len(part) == 0:\n",
    "        continue\n",
    "    x0[np.random.choice(part)] = 1\n",
    "print(\"x0:\")\n",
    "dispx0 = sp.Matrix(x0)\n",
    "display(dispx0)"
   ]
  },
  {
   "cell_type": "markdown",
   "id": "86b6261e",
   "metadata": {},
   "source": [
    "## Optimization"
   ]
  },
  {
   "cell_type": "code",
   "execution_count": null,
   "id": "fbbad6b8",
   "metadata": {},
   "outputs": [],
   "source": [
    "t0 = time.time()\n",
    "x_star = frank_wolfe(Q, q, x0, partitions, max_iter=100000, eps=1e-8, interactive=False, verbose=True, step_size='exact')\n",
    "t1 = time.time()\n",
    "print(f\"Elapsed time: {t1 - t0:.2f} seconds\")\n",
    "\n",
    "print(\"x_star:\")\n",
    "dispx_star = sp.Matrix(x_star)\n",
    "display(dispx_star)\n"
   ]
  },
  {
   "cell_type": "code",
   "execution_count": null,
   "id": "d658a66f",
   "metadata": {},
   "outputs": [],
   "source": [
    "vals = []\n",
    "for i in range(n_partitions):\n",
    "    vals.append([])\n",
    "    for j in range(len(partitions[i])):\n",
    "        vals[i].append(x_star[partitions[i][j]])\n",
    "\n",
    "for i in range(n_partitions):\n",
    "    if len(vals[i]) == 0:\n",
    "        continue\n",
    "    print(sum(vals[i]))"
   ]
  },
  {
   "cell_type": "code",
   "execution_count": null,
   "id": "84ac0e10",
   "metadata": {},
   "outputs": [],
   "source": [
    "import matplotlib.pyplot as plt\n",
    "\n",
    "plt.figure(figsize=(10, 6))\n",
    "plt.semilogy(gaps, label='Frank-Wolfe Gap')\n",
    "plt.xlabel('Iteration')\n",
    "plt.ylabel('Gap')\n",
    "plt.title('Convergence of Frank-Wolfe Algorithm')\n",
    "plt.legend()\n",
    "plt.grid(True)\n",
    "plt.show()"
   ]
  },
  {
   "cell_type": "markdown",
   "id": "a76bdb14",
   "metadata": {},
   "source": [
    "## Comparison with a solver"
   ]
  },
  {
   "cell_type": "code",
   "execution_count": null,
   "id": "80ee340f",
   "metadata": {},
   "outputs": [],
   "source": [
    "from scipy.optimize import minimize\n",
    "\n",
    "# objective function f(x) = 1/2 x^T Q x + q^T x\n",
    "def objective(x):\n",
    "    return 0.5 * x @ (Q @ x) + q.flatten() @ x\n",
    "\n",
    "# bounds 0 ≤ x_i ≤ 1\n",
    "bounds = [(0, 1)] * n\n",
    "\n",
    "# for each partition, the sum of the x's in that block must be 1\n",
    "constraints = [\n",
    "    {'type': 'eq', 'fun': lambda x, part=part: x[part].sum() - 1}\n",
    "    for part in partitions\n",
    "]\n",
    "\n",
    "# initial guess (flattened)\n",
    "x0_flat = x0.flatten()\n",
    "\n",
    "res = minimize(objective,\n",
    "               x0_flat,\n",
    "               method='SLSQP',\n",
    "               bounds=bounds,\n",
    "               constraints=constraints,\n",
    "               tol=1e-8,)\n",
    "\n",
    "# reshape solution\n",
    "x_solver = res.x.reshape(-1, 1)\n",
    "\n",
    "# Set precision for displaying results\n",
    "precision = 4  # Change this value to adjust precision\n",
    "np.set_printoptions(precision=precision, suppress=True)\n",
    "\n",
    "print(\"Solver status:\", res.message)\n",
    "print(\"Objective value:\", res.fun)\n",
    "print(f\"Our value: {f(Q, q, x_star)}\")\n",
    "print(\"x (solver):\")\n",
    "diff = x_star - x_solver\n",
    "display(sp.Matrix(diff))"
   ]
  }
 ],
 "metadata": {
  "kernelspec": {
   "display_name": "Python 3",
   "language": "python",
   "name": "python3"
  },
  "language_info": {
   "codemirror_mode": {
    "name": "ipython",
    "version": 3
   },
   "file_extension": ".py",
   "mimetype": "text/x-python",
   "name": "python",
   "nbconvert_exporter": "python",
   "pygments_lexer": "ipython3",
   "version": "3.10.12"
  }
 },
 "nbformat": 4,
 "nbformat_minor": 5
}
